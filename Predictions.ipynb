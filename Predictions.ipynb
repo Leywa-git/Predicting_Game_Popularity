{
 "cells": [
  {
   "cell_type": "markdown",
   "id": "5af48703",
   "metadata": {},
   "source": [
    "# 1. Importing the libraries, loading models and dataset for the prediction"
   ]
  },
  {
   "cell_type": "code",
   "execution_count": 1,
   "id": "54fa6a75",
   "metadata": {},
   "outputs": [],
   "source": [
    "import pandas as pd\n",
    "import dill as pickle"
   ]
  },
  {
   "cell_type": "markdown",
   "id": "19e7ab4e",
   "metadata": {},
   "source": [
    "**Creating a function to load the models.**"
   ]
  },
  {
   "cell_type": "code",
   "execution_count": 2,
   "id": "166a009d",
   "metadata": {},
   "outputs": [],
   "source": [
    "def load_model(filename):\n",
    "    with open(\"Models/\" + filename, \"rb\") as file:\n",
    "        model = pickle.load(file)\n",
    "    return model"
   ]
  },
  {
   "cell_type": "code",
   "execution_count": 3,
   "id": "6afdfb51",
   "metadata": {},
   "outputs": [],
   "source": [
    "model_RF = load_model(\"random_forest_model.pkl\")\n",
    "model_XGB = load_model(\"XGBoost_model.pkl\")\n",
    "model_en = load_model(\"Ensemble_model.pkl\")"
   ]
  },
  {
   "cell_type": "code",
   "execution_count": 4,
   "id": "651a132d",
   "metadata": {},
   "outputs": [],
   "source": [
    "dataframe = pd.read_csv(\"Datasets/prediction_1.csv\")"
   ]
  },
  {
   "cell_type": "code",
   "execution_count": 5,
   "id": "818fbe69",
   "metadata": {},
   "outputs": [
    {
     "data": {
      "text/html": [
       "<div>\n",
       "<style scoped>\n",
       "    .dataframe tbody tr th:only-of-type {\n",
       "        vertical-align: middle;\n",
       "    }\n",
       "\n",
       "    .dataframe tbody tr th {\n",
       "        vertical-align: top;\n",
       "    }\n",
       "\n",
       "    .dataframe thead th {\n",
       "        text-align: right;\n",
       "    }\n",
       "</style>\n",
       "<table border=\"1\" class=\"dataframe\">\n",
       "  <thead>\n",
       "    <tr style=\"text-align: right;\">\n",
       "      <th></th>\n",
       "      <th>release_date</th>\n",
       "      <th>has_setting</th>\n",
       "      <th>published_by_developer</th>\n",
       "      <th>multiple_languages</th>\n",
       "      <th>FPS</th>\n",
       "      <th>Gore</th>\n",
       "      <th>Action</th>\n",
       "      <th>Shooter</th>\n",
       "      <th>First-Person</th>\n",
       "      <th>Great Soundtrack</th>\n",
       "      <th>...</th>\n",
       "      <th>genre_Free to Play</th>\n",
       "      <th>genre_RPG</th>\n",
       "      <th>genre_Indie</th>\n",
       "      <th>genre_Early Access</th>\n",
       "      <th>genre_Simulation</th>\n",
       "      <th>genre_Racing</th>\n",
       "      <th>genre_Casual</th>\n",
       "      <th>genre_Sports</th>\n",
       "      <th>total_reviews</th>\n",
       "      <th>positive_reviews_share</th>\n",
       "    </tr>\n",
       "  </thead>\n",
       "  <tbody>\n",
       "    <tr>\n",
       "      <th>0</th>\n",
       "      <td>2023</td>\n",
       "      <td>True</td>\n",
       "      <td>True</td>\n",
       "      <td>True</td>\n",
       "      <td>False</td>\n",
       "      <td>True</td>\n",
       "      <td>True</td>\n",
       "      <td>True</td>\n",
       "      <td>False</td>\n",
       "      <td>False</td>\n",
       "      <td>...</td>\n",
       "      <td>False</td>\n",
       "      <td>False</td>\n",
       "      <td>False</td>\n",
       "      <td>False</td>\n",
       "      <td>False</td>\n",
       "      <td>False</td>\n",
       "      <td>False</td>\n",
       "      <td>False</td>\n",
       "      <td>16.0</td>\n",
       "      <td>0.54</td>\n",
       "    </tr>\n",
       "  </tbody>\n",
       "</table>\n",
       "<p>1 rows × 150 columns</p>\n",
       "</div>"
      ],
      "text/plain": [
       "   release_date  has_setting  published_by_developer  multiple_languages   \n",
       "0          2023         True                    True                True  \\\n",
       "\n",
       "     FPS  Gore  Action  Shooter  First-Person  Great Soundtrack  ...   \n",
       "0  False  True    True     True         False             False  ...  \\\n",
       "\n",
       "   genre_Free to Play  genre_RPG  genre_Indie  genre_Early Access   \n",
       "0               False      False        False               False  \\\n",
       "\n",
       "   genre_Simulation  genre_Racing  genre_Casual  genre_Sports  total_reviews   \n",
       "0             False         False         False         False           16.0  \\\n",
       "\n",
       "   positive_reviews_share  \n",
       "0                    0.54  \n",
       "\n",
       "[1 rows x 150 columns]"
      ]
     },
     "execution_count": 5,
     "metadata": {},
     "output_type": "execute_result"
    }
   ],
   "source": [
    "dataframe"
   ]
  },
  {
   "cell_type": "markdown",
   "id": "6035ba03",
   "metadata": {},
   "source": [
    "# 2. Define the source data and make a prediction"
   ]
  },
  {
   "cell_type": "markdown",
   "id": "2d7e6dd1",
   "metadata": {},
   "source": [
    "**Source data.**"
   ]
  },
  {
   "cell_type": "code",
   "execution_count": 6,
   "id": "a5db32ac",
   "metadata": {},
   "outputs": [],
   "source": [
    "X = dataframe.drop(\"positive_reviews_share\", axis=1)"
   ]
  },
  {
   "cell_type": "markdown",
   "id": "9b679df9",
   "metadata": {},
   "source": [
    "**Prediction.**"
   ]
  },
  {
   "cell_type": "code",
   "execution_count": 7,
   "id": "5130c870",
   "metadata": {},
   "outputs": [],
   "source": [
    "prediction = model_en.predict(X)"
   ]
  },
  {
   "cell_type": "code",
   "execution_count": 8,
   "id": "cd35404e",
   "metadata": {},
   "outputs": [
    {
     "data": {
      "text/plain": [
       "array([0.54353082])"
      ]
     },
     "execution_count": 8,
     "metadata": {},
     "output_type": "execute_result"
    }
   ],
   "source": [
    "prediction"
   ]
  },
  {
   "cell_type": "code",
   "execution_count": 9,
   "id": "111c1c6d",
   "metadata": {},
   "outputs": [],
   "source": [
    "actual_score = \"https://store.steampowered.com/app/2050650/Resident_Evil_4/#app_reviews_hash\""
   ]
  },
  {
   "cell_type": "markdown",
   "id": "4fc08e28",
   "metadata": {},
   "source": [
    "# Predicted Score = 54%\n",
    "# Actual Score = 97%"
   ]
  }
 ],
 "metadata": {
  "kernelspec": {
   "display_name": "Python 3 (ipykernel)",
   "language": "python",
   "name": "python3"
  },
  "language_info": {
   "codemirror_mode": {
    "name": "ipython",
    "version": 3
   },
   "file_extension": ".py",
   "mimetype": "text/x-python",
   "name": "python",
   "nbconvert_exporter": "python",
   "pygments_lexer": "ipython3",
   "version": "3.10.11"
  }
 },
 "nbformat": 4,
 "nbformat_minor": 5
}
