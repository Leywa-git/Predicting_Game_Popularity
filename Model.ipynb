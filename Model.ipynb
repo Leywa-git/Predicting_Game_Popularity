{
 "cells": [
  {
   "cell_type": "markdown",
   "id": "d9c6c6a1",
   "metadata": {},
   "source": [
    "# 1. Importing the libraries and dataset"
   ]
  },
  {
   "cell_type": "code",
   "execution_count": 2,
   "id": "93f633cc",
   "metadata": {},
   "outputs": [],
   "source": [
    "import warnings\n",
    "\n",
    "import pandas as pd\n",
    "import xgboost as xgb\n",
    "import dill as pickle\n",
    "\n",
    "from sklearn.ensemble import RandomForestRegressor\n",
    "from sklearn.model_selection import GridSearchCV, train_test_split\n",
    "from sklearn.metrics import mean_absolute_error, mean_squared_error, r2_score\n",
    "from sklearn.ensemble import VotingRegressor\n",
    "\n",
    "warnings.filterwarnings(\"ignore\")"
   ]
  },
  {
   "cell_type": "code",
   "execution_count": 3,
   "id": "6db04b85",
   "metadata": {},
   "outputs": [
    {
     "data": {
      "text/html": [
       "<div>\n",
       "<style scoped>\n",
       "    .dataframe tbody tr th:only-of-type {\n",
       "        vertical-align: middle;\n",
       "    }\n",
       "\n",
       "    .dataframe tbody tr th {\n",
       "        vertical-align: top;\n",
       "    }\n",
       "\n",
       "    .dataframe thead th {\n",
       "        text-align: right;\n",
       "    }\n",
       "</style>\n",
       "<table border=\"1\" class=\"dataframe\">\n",
       "  <thead>\n",
       "    <tr style=\"text-align: right;\">\n",
       "      <th></th>\n",
       "      <th>release_date</th>\n",
       "      <th>has_setting</th>\n",
       "      <th>published_by_developer</th>\n",
       "      <th>multiple_languages</th>\n",
       "      <th>FPS</th>\n",
       "      <th>Gore</th>\n",
       "      <th>Action</th>\n",
       "      <th>Shooter</th>\n",
       "      <th>First-Person</th>\n",
       "      <th>Great Soundtrack</th>\n",
       "      <th>...</th>\n",
       "      <th>genre_Free to Play</th>\n",
       "      <th>genre_RPG</th>\n",
       "      <th>genre_Indie</th>\n",
       "      <th>genre_Early Access</th>\n",
       "      <th>genre_Simulation</th>\n",
       "      <th>genre_Racing</th>\n",
       "      <th>genre_Casual</th>\n",
       "      <th>genre_Sports</th>\n",
       "      <th>total_reviews</th>\n",
       "      <th>positive_reviews_share</th>\n",
       "    </tr>\n",
       "  </thead>\n",
       "  <tbody>\n",
       "    <tr>\n",
       "      <th>0</th>\n",
       "      <td>2016</td>\n",
       "      <td>False</td>\n",
       "      <td>False</td>\n",
       "      <td>True</td>\n",
       "      <td>True</td>\n",
       "      <td>True</td>\n",
       "      <td>True</td>\n",
       "      <td>True</td>\n",
       "      <td>True</td>\n",
       "      <td>True</td>\n",
       "      <td>...</td>\n",
       "      <td>False</td>\n",
       "      <td>False</td>\n",
       "      <td>False</td>\n",
       "      <td>False</td>\n",
       "      <td>False</td>\n",
       "      <td>False</td>\n",
       "      <td>False</td>\n",
       "      <td>False</td>\n",
       "      <td>42550.0</td>\n",
       "      <td>0.92</td>\n",
       "    </tr>\n",
       "    <tr>\n",
       "      <th>1</th>\n",
       "      <td>2017</td>\n",
       "      <td>False</td>\n",
       "      <td>True</td>\n",
       "      <td>True</td>\n",
       "      <td>True</td>\n",
       "      <td>False</td>\n",
       "      <td>True</td>\n",
       "      <td>True</td>\n",
       "      <td>True</td>\n",
       "      <td>False</td>\n",
       "      <td>...</td>\n",
       "      <td>False</td>\n",
       "      <td>False</td>\n",
       "      <td>False</td>\n",
       "      <td>False</td>\n",
       "      <td>False</td>\n",
       "      <td>False</td>\n",
       "      <td>False</td>\n",
       "      <td>False</td>\n",
       "      <td>836608.0</td>\n",
       "      <td>0.49</td>\n",
       "    </tr>\n",
       "    <tr>\n",
       "      <th>2</th>\n",
       "      <td>2018</td>\n",
       "      <td>False</td>\n",
       "      <td>False</td>\n",
       "      <td>True</td>\n",
       "      <td>False</td>\n",
       "      <td>False</td>\n",
       "      <td>True</td>\n",
       "      <td>False</td>\n",
       "      <td>False</td>\n",
       "      <td>True</td>\n",
       "      <td>...</td>\n",
       "      <td>False</td>\n",
       "      <td>False</td>\n",
       "      <td>False</td>\n",
       "      <td>False</td>\n",
       "      <td>False</td>\n",
       "      <td>False</td>\n",
       "      <td>False</td>\n",
       "      <td>False</td>\n",
       "      <td>7030.0</td>\n",
       "      <td>0.71</td>\n",
       "    </tr>\n",
       "    <tr>\n",
       "      <th>3</th>\n",
       "      <td>2018</td>\n",
       "      <td>False</td>\n",
       "      <td>True</td>\n",
       "      <td>True</td>\n",
       "      <td>True</td>\n",
       "      <td>False</td>\n",
       "      <td>True</td>\n",
       "      <td>True</td>\n",
       "      <td>False</td>\n",
       "      <td>False</td>\n",
       "      <td>...</td>\n",
       "      <td>False</td>\n",
       "      <td>False</td>\n",
       "      <td>False</td>\n",
       "      <td>False</td>\n",
       "      <td>False</td>\n",
       "      <td>False</td>\n",
       "      <td>False</td>\n",
       "      <td>False</td>\n",
       "      <td>167115.0</td>\n",
       "      <td>0.61</td>\n",
       "    </tr>\n",
       "    <tr>\n",
       "      <th>4</th>\n",
       "      <td>2003</td>\n",
       "      <td>False</td>\n",
       "      <td>True</td>\n",
       "      <td>True</td>\n",
       "      <td>False</td>\n",
       "      <td>False</td>\n",
       "      <td>True</td>\n",
       "      <td>False</td>\n",
       "      <td>False</td>\n",
       "      <td>False</td>\n",
       "      <td>...</td>\n",
       "      <td>True</td>\n",
       "      <td>True</td>\n",
       "      <td>False</td>\n",
       "      <td>False</td>\n",
       "      <td>False</td>\n",
       "      <td>False</td>\n",
       "      <td>False</td>\n",
       "      <td>False</td>\n",
       "      <td>11481.0</td>\n",
       "      <td>0.74</td>\n",
       "    </tr>\n",
       "  </tbody>\n",
       "</table>\n",
       "<p>5 rows × 150 columns</p>\n",
       "</div>"
      ],
      "text/plain": [
       "   release_date  has_setting  published_by_developer  multiple_languages   \n",
       "0          2016        False                   False                True  \\\n",
       "1          2017        False                    True                True   \n",
       "2          2018        False                   False                True   \n",
       "3          2018        False                    True                True   \n",
       "4          2003        False                    True                True   \n",
       "\n",
       "     FPS   Gore  Action  Shooter  First-Person  Great Soundtrack  ...   \n",
       "0   True   True    True     True          True              True  ...  \\\n",
       "1   True  False    True     True          True             False  ...   \n",
       "2  False  False    True    False         False              True  ...   \n",
       "3   True  False    True     True         False             False  ...   \n",
       "4  False  False    True    False         False             False  ...   \n",
       "\n",
       "   genre_Free to Play  genre_RPG  genre_Indie  genre_Early Access   \n",
       "0               False      False        False               False  \\\n",
       "1               False      False        False               False   \n",
       "2               False      False        False               False   \n",
       "3               False      False        False               False   \n",
       "4                True       True        False               False   \n",
       "\n",
       "   genre_Simulation  genre_Racing  genre_Casual  genre_Sports  total_reviews   \n",
       "0             False         False         False         False        42550.0  \\\n",
       "1             False         False         False         False       836608.0   \n",
       "2             False         False         False         False         7030.0   \n",
       "3             False         False         False         False       167115.0   \n",
       "4             False         False         False         False        11481.0   \n",
       "\n",
       "   positive_reviews_share  \n",
       "0                    0.92  \n",
       "1                    0.49  \n",
       "2                    0.71  \n",
       "3                    0.61  \n",
       "4                    0.74  \n",
       "\n",
       "[5 rows x 150 columns]"
      ]
     },
     "execution_count": 3,
     "metadata": {},
     "output_type": "execute_result"
    }
   ],
   "source": [
    "dataframe = pd.read_csv(\"Datasets/steam_games_cleaned.csv\")\n",
    "dataframe.head()"
   ]
  },
  {
   "cell_type": "markdown",
   "id": "70743adf",
   "metadata": {},
   "source": [
    "# 2. RandomForestRegressor"
   ]
  },
  {
   "cell_type": "markdown",
   "id": "651947a9",
   "metadata": {},
   "source": [
    "**Define the target and source data.**"
   ]
  },
  {
   "cell_type": "code",
   "execution_count": 4,
   "id": "c2f805f6",
   "metadata": {},
   "outputs": [],
   "source": [
    "X_RF = dataframe.drop(\"positive_reviews_share\", axis=1)\n",
    "y_RF = dataframe[\"positive_reviews_share\"]"
   ]
  },
  {
   "cell_type": "markdown",
   "id": "36fd8256",
   "metadata": {},
   "source": [
    "**Spliting the data.**"
   ]
  },
  {
   "cell_type": "code",
   "execution_count": 5,
   "id": "230db92d",
   "metadata": {},
   "outputs": [],
   "source": [
    "X_train_RF, X_test_RF, y_train_RF, y_test_RF = train_test_split(X_RF, y_RF, test_size=0.2, random_state=42)"
   ]
  },
  {
   "cell_type": "markdown",
   "id": "5fa2a87b",
   "metadata": {},
   "source": [
    "**Creating a grid of hyper-parameters**"
   ]
  },
  {
   "cell_type": "code",
   "execution_count": 6,
   "id": "9b8ed9f3",
   "metadata": {},
   "outputs": [],
   "source": [
    "#param_grid_RF = {\n",
    "#    \"n_estimators\": [100, 200, 300],\n",
    "#    \"max_depth\": [None, 5, 10],\n",
    "#    \"min_samples_split\": [2, 5, 10]\n",
    "#}"
   ]
  },
  {
   "cell_type": "markdown",
   "id": "651fa4a8",
   "metadata": {},
   "source": [
    "**Applying the best hyper-parameters for a grid on the previous runs performed.**"
   ]
  },
  {
   "cell_type": "code",
   "execution_count": 7,
   "id": "e58966ce",
   "metadata": {},
   "outputs": [],
   "source": [
    "best_param_grid_RF = {\n",
    "    \"n_estimators\": [300],\n",
    "    \"max_depth\": [None],\n",
    "    \"min_samples_split\": [10]\n",
    "}"
   ]
  },
  {
   "cell_type": "markdown",
   "id": "b706ac97",
   "metadata": {},
   "source": [
    "**Defining regressor.**"
   ]
  },
  {
   "cell_type": "code",
   "execution_count": 8,
   "id": "a684eee2",
   "metadata": {},
   "outputs": [],
   "source": [
    "regressor_RF = RandomForestRegressor(random_state=42)"
   ]
  },
  {
   "cell_type": "markdown",
   "id": "36680c51",
   "metadata": {},
   "source": [
    "**Creating a model for a regression. Hyper-parameters are defined with a library \"GridSearchCV\".**"
   ]
  },
  {
   "cell_type": "code",
   "execution_count": 9,
   "id": "feb12a5e",
   "metadata": {},
   "outputs": [
    {
     "data": {
      "text/html": [
       "<style>#sk-container-id-1 {color: black;background-color: white;}#sk-container-id-1 pre{padding: 0;}#sk-container-id-1 div.sk-toggleable {background-color: white;}#sk-container-id-1 label.sk-toggleable__label {cursor: pointer;display: block;width: 100%;margin-bottom: 0;padding: 0.3em;box-sizing: border-box;text-align: center;}#sk-container-id-1 label.sk-toggleable__label-arrow:before {content: \"▸\";float: left;margin-right: 0.25em;color: #696969;}#sk-container-id-1 label.sk-toggleable__label-arrow:hover:before {color: black;}#sk-container-id-1 div.sk-estimator:hover label.sk-toggleable__label-arrow:before {color: black;}#sk-container-id-1 div.sk-toggleable__content {max-height: 0;max-width: 0;overflow: hidden;text-align: left;background-color: #f0f8ff;}#sk-container-id-1 div.sk-toggleable__content pre {margin: 0.2em;color: black;border-radius: 0.25em;background-color: #f0f8ff;}#sk-container-id-1 input.sk-toggleable__control:checked~div.sk-toggleable__content {max-height: 200px;max-width: 100%;overflow: auto;}#sk-container-id-1 input.sk-toggleable__control:checked~label.sk-toggleable__label-arrow:before {content: \"▾\";}#sk-container-id-1 div.sk-estimator input.sk-toggleable__control:checked~label.sk-toggleable__label {background-color: #d4ebff;}#sk-container-id-1 div.sk-label input.sk-toggleable__control:checked~label.sk-toggleable__label {background-color: #d4ebff;}#sk-container-id-1 input.sk-hidden--visually {border: 0;clip: rect(1px 1px 1px 1px);clip: rect(1px, 1px, 1px, 1px);height: 1px;margin: -1px;overflow: hidden;padding: 0;position: absolute;width: 1px;}#sk-container-id-1 div.sk-estimator {font-family: monospace;background-color: #f0f8ff;border: 1px dotted black;border-radius: 0.25em;box-sizing: border-box;margin-bottom: 0.5em;}#sk-container-id-1 div.sk-estimator:hover {background-color: #d4ebff;}#sk-container-id-1 div.sk-parallel-item::after {content: \"\";width: 100%;border-bottom: 1px solid gray;flex-grow: 1;}#sk-container-id-1 div.sk-label:hover label.sk-toggleable__label {background-color: #d4ebff;}#sk-container-id-1 div.sk-serial::before {content: \"\";position: absolute;border-left: 1px solid gray;box-sizing: border-box;top: 0;bottom: 0;left: 50%;z-index: 0;}#sk-container-id-1 div.sk-serial {display: flex;flex-direction: column;align-items: center;background-color: white;padding-right: 0.2em;padding-left: 0.2em;position: relative;}#sk-container-id-1 div.sk-item {position: relative;z-index: 1;}#sk-container-id-1 div.sk-parallel {display: flex;align-items: stretch;justify-content: center;background-color: white;position: relative;}#sk-container-id-1 div.sk-item::before, #sk-container-id-1 div.sk-parallel-item::before {content: \"\";position: absolute;border-left: 1px solid gray;box-sizing: border-box;top: 0;bottom: 0;left: 50%;z-index: -1;}#sk-container-id-1 div.sk-parallel-item {display: flex;flex-direction: column;z-index: 1;position: relative;background-color: white;}#sk-container-id-1 div.sk-parallel-item:first-child::after {align-self: flex-end;width: 50%;}#sk-container-id-1 div.sk-parallel-item:last-child::after {align-self: flex-start;width: 50%;}#sk-container-id-1 div.sk-parallel-item:only-child::after {width: 0;}#sk-container-id-1 div.sk-dashed-wrapped {border: 1px dashed gray;margin: 0 0.4em 0.5em 0.4em;box-sizing: border-box;padding-bottom: 0.4em;background-color: white;}#sk-container-id-1 div.sk-label label {font-family: monospace;font-weight: bold;display: inline-block;line-height: 1.2em;}#sk-container-id-1 div.sk-label-container {text-align: center;}#sk-container-id-1 div.sk-container {/* jupyter's `normalize.less` sets `[hidden] { display: none; }` but bootstrap.min.css set `[hidden] { display: none !important; }` so we also need the `!important` here to be able to override the default hidden behavior on the sphinx rendered scikit-learn.org. See: https://github.com/scikit-learn/scikit-learn/issues/21755 */display: inline-block !important;position: relative;}#sk-container-id-1 div.sk-text-repr-fallback {display: none;}</style><div id=\"sk-container-id-1\" class=\"sk-top-container\"><div class=\"sk-text-repr-fallback\"><pre>GridSearchCV(cv=5, estimator=RandomForestRegressor(random_state=42),\n",
       "             param_grid={&#x27;max_depth&#x27;: [None], &#x27;min_samples_split&#x27;: [10],\n",
       "                         &#x27;n_estimators&#x27;: [300]},\n",
       "             scoring=&#x27;r2&#x27;)</pre><b>In a Jupyter environment, please rerun this cell to show the HTML representation or trust the notebook. <br />On GitHub, the HTML representation is unable to render, please try loading this page with nbviewer.org.</b></div><div class=\"sk-container\" hidden><div class=\"sk-item sk-dashed-wrapped\"><div class=\"sk-label-container\"><div class=\"sk-label sk-toggleable\"><input class=\"sk-toggleable__control sk-hidden--visually\" id=\"sk-estimator-id-1\" type=\"checkbox\" ><label for=\"sk-estimator-id-1\" class=\"sk-toggleable__label sk-toggleable__label-arrow\">GridSearchCV</label><div class=\"sk-toggleable__content\"><pre>GridSearchCV(cv=5, estimator=RandomForestRegressor(random_state=42),\n",
       "             param_grid={&#x27;max_depth&#x27;: [None], &#x27;min_samples_split&#x27;: [10],\n",
       "                         &#x27;n_estimators&#x27;: [300]},\n",
       "             scoring=&#x27;r2&#x27;)</pre></div></div></div><div class=\"sk-parallel\"><div class=\"sk-parallel-item\"><div class=\"sk-item\"><div class=\"sk-label-container\"><div class=\"sk-label sk-toggleable\"><input class=\"sk-toggleable__control sk-hidden--visually\" id=\"sk-estimator-id-2\" type=\"checkbox\" ><label for=\"sk-estimator-id-2\" class=\"sk-toggleable__label sk-toggleable__label-arrow\">estimator: RandomForestRegressor</label><div class=\"sk-toggleable__content\"><pre>RandomForestRegressor(random_state=42)</pre></div></div></div><div class=\"sk-serial\"><div class=\"sk-item\"><div class=\"sk-estimator sk-toggleable\"><input class=\"sk-toggleable__control sk-hidden--visually\" id=\"sk-estimator-id-3\" type=\"checkbox\" ><label for=\"sk-estimator-id-3\" class=\"sk-toggleable__label sk-toggleable__label-arrow\">RandomForestRegressor</label><div class=\"sk-toggleable__content\"><pre>RandomForestRegressor(random_state=42)</pre></div></div></div></div></div></div></div></div></div></div>"
      ],
      "text/plain": [
       "GridSearchCV(cv=5, estimator=RandomForestRegressor(random_state=42),\n",
       "             param_grid={'max_depth': [None], 'min_samples_split': [10],\n",
       "                         'n_estimators': [300]},\n",
       "             scoring='r2')"
      ]
     },
     "execution_count": 9,
     "metadata": {},
     "output_type": "execute_result"
    }
   ],
   "source": [
    "model_RF = GridSearchCV(regressor_RF, param_grid=best_param_grid_RF, cv=5, scoring=\"r2\")\n",
    "model_RF.fit(X_train_RF, y_train_RF)"
   ]
  },
  {
   "cell_type": "code",
   "execution_count": 10,
   "id": "87a6264e",
   "metadata": {},
   "outputs": [],
   "source": [
    "best_params_RF = model_RF.best_params_"
   ]
  },
  {
   "cell_type": "markdown",
   "id": "8f492060",
   "metadata": {},
   "source": [
    "**Creating a prediction.**"
   ]
  },
  {
   "cell_type": "code",
   "execution_count": 11,
   "id": "aeead809",
   "metadata": {},
   "outputs": [],
   "source": [
    "y_pred_RF = model_RF.best_estimator_.predict(X_test_RF)"
   ]
  },
  {
   "cell_type": "markdown",
   "id": "4171c35d",
   "metadata": {},
   "source": [
    "**Creating metrics and printing them out.**"
   ]
  },
  {
   "cell_type": "code",
   "execution_count": 12,
   "id": "a9b195d0",
   "metadata": {},
   "outputs": [],
   "source": [
    "mae_RF = mean_absolute_error(y_test_RF, y_pred_RF)\n",
    "mse_RF = mean_squared_error(y_test_RF, y_pred_RF)\n",
    "rmse_RF = mean_squared_error(y_test_RF, y_pred_RF, squared=False)\n",
    "r2_RF = r2_score(y_test_RF, y_pred_RF)"
   ]
  },
  {
   "cell_type": "code",
   "execution_count": 13,
   "id": "9645c534",
   "metadata": {},
   "outputs": [
    {
     "name": "stdout",
     "output_type": "stream",
     "text": [
      "Best Hyperparameters: {'max_depth': None, 'min_samples_split': 10, 'n_estimators': 300}\n",
      "Mean Absolute Error (MAE): 0.1190569881321025\n",
      "Mean Squared Error (MSE): 0.02432968470649142\n",
      "Root Mean Squared Error (RMSE): 0.15597975736130448\n",
      "R-squared (R2): 0.287073164450252\n"
     ]
    }
   ],
   "source": [
    "print(\"Best Hyperparameters:\", best_params_RF)\n",
    "print(\"Mean Absolute Error (MAE):\", mae_RF)\n",
    "print(\"Mean Squared Error (MSE):\", mse_RF)\n",
    "print(\"Root Mean Squared Error (RMSE):\", rmse_RF)\n",
    "print(\"R-squared (R2):\", r2_RF)"
   ]
  },
  {
   "cell_type": "markdown",
   "id": "742515cf",
   "metadata": {},
   "source": [
    "# 3. XGBRegressor"
   ]
  },
  {
   "cell_type": "markdown",
   "id": "b4fc3e3d",
   "metadata": {},
   "source": [
    "**Define the target and source data.**"
   ]
  },
  {
   "cell_type": "code",
   "execution_count": 14,
   "id": "64d6de63",
   "metadata": {},
   "outputs": [],
   "source": [
    "X_XGB = dataframe.drop(\"positive_reviews_share\", axis=1)\n",
    "y_XGB = dataframe[\"positive_reviews_share\"]"
   ]
  },
  {
   "cell_type": "markdown",
   "id": "a3961add",
   "metadata": {},
   "source": [
    "**Spliting the data.**"
   ]
  },
  {
   "cell_type": "code",
   "execution_count": 15,
   "id": "aa80b2f1",
   "metadata": {},
   "outputs": [],
   "source": [
    "X_train_XGB, X_test_XGB, y_train_XGB, y_test_XGB = train_test_split(X_XGB, y_XGB, test_size=0.2, random_state=42)"
   ]
  },
  {
   "cell_type": "markdown",
   "id": "3eda0dd0",
   "metadata": {},
   "source": [
    "**Creating a grid of hyper-parameters**"
   ]
  },
  {
   "cell_type": "code",
   "execution_count": 16,
   "id": "9affaf06",
   "metadata": {},
   "outputs": [],
   "source": [
    "#param_grid_XGB = {\n",
    "#    \"learning_rate\": [0.1, 0.01, 0.001],\n",
    "#    \"n_estimators\": [100, 200, 300],\n",
    "#    \"max_depth\": [3, 4, 5],\n",
    "#    \"subsample\": [0.8, 0.9, 1.0],\n",
    "#    \"colsample_bytree\": [0.8, 0.9, 1.0],\n",
    "#    \"gamma\": [0, 0.1, 0.2],\n",
    "#    \"reg_alpha\": [0, 0.1, 0.2],\n",
    "#    \"reg_lambda\": [0, 0.1, 0.2]\n",
    "#}"
   ]
  },
  {
   "cell_type": "markdown",
   "id": "76b7421e",
   "metadata": {},
   "source": [
    "**Applying the best hyper-parameters for a grid on the previous runs performed.**"
   ]
  },
  {
   "cell_type": "code",
   "execution_count": 17,
   "id": "53411ab7",
   "metadata": {},
   "outputs": [],
   "source": [
    "best_param_grid_XGB = {\n",
    "    \"learning_rate\": [0.1],\n",
    "    \"n_estimators\": [200],\n",
    "    \"max_depth\": [4],\n",
    "    \"subsample\": [0.9],\n",
    "    \"colsample_bytree\": [0.8],\n",
    "    \"gamma\": [0],\n",
    "    \"reg_alpha\": [0.2],\n",
    "    \"reg_lambda\": [0]\n",
    "}"
   ]
  },
  {
   "cell_type": "markdown",
   "id": "0bb9c56c",
   "metadata": {},
   "source": [
    "**Defining regressor.**"
   ]
  },
  {
   "cell_type": "code",
   "execution_count": 18,
   "id": "0575c294",
   "metadata": {},
   "outputs": [],
   "source": [
    "regressor_XGB = xgb.XGBRegressor(random_state=42)"
   ]
  },
  {
   "cell_type": "markdown",
   "id": "2927d4a7",
   "metadata": {},
   "source": [
    "**Creating a model for a regression. Hyper-parameters are defined with a library \"GridSearchCV\".**"
   ]
  },
  {
   "cell_type": "code",
   "execution_count": 19,
   "id": "5bb10339",
   "metadata": {
    "scrolled": false
   },
   "outputs": [
    {
     "data": {
      "text/html": [
       "<style>#sk-container-id-2 {color: black;background-color: white;}#sk-container-id-2 pre{padding: 0;}#sk-container-id-2 div.sk-toggleable {background-color: white;}#sk-container-id-2 label.sk-toggleable__label {cursor: pointer;display: block;width: 100%;margin-bottom: 0;padding: 0.3em;box-sizing: border-box;text-align: center;}#sk-container-id-2 label.sk-toggleable__label-arrow:before {content: \"▸\";float: left;margin-right: 0.25em;color: #696969;}#sk-container-id-2 label.sk-toggleable__label-arrow:hover:before {color: black;}#sk-container-id-2 div.sk-estimator:hover label.sk-toggleable__label-arrow:before {color: black;}#sk-container-id-2 div.sk-toggleable__content {max-height: 0;max-width: 0;overflow: hidden;text-align: left;background-color: #f0f8ff;}#sk-container-id-2 div.sk-toggleable__content pre {margin: 0.2em;color: black;border-radius: 0.25em;background-color: #f0f8ff;}#sk-container-id-2 input.sk-toggleable__control:checked~div.sk-toggleable__content {max-height: 200px;max-width: 100%;overflow: auto;}#sk-container-id-2 input.sk-toggleable__control:checked~label.sk-toggleable__label-arrow:before {content: \"▾\";}#sk-container-id-2 div.sk-estimator input.sk-toggleable__control:checked~label.sk-toggleable__label {background-color: #d4ebff;}#sk-container-id-2 div.sk-label input.sk-toggleable__control:checked~label.sk-toggleable__label {background-color: #d4ebff;}#sk-container-id-2 input.sk-hidden--visually {border: 0;clip: rect(1px 1px 1px 1px);clip: rect(1px, 1px, 1px, 1px);height: 1px;margin: -1px;overflow: hidden;padding: 0;position: absolute;width: 1px;}#sk-container-id-2 div.sk-estimator {font-family: monospace;background-color: #f0f8ff;border: 1px dotted black;border-radius: 0.25em;box-sizing: border-box;margin-bottom: 0.5em;}#sk-container-id-2 div.sk-estimator:hover {background-color: #d4ebff;}#sk-container-id-2 div.sk-parallel-item::after {content: \"\";width: 100%;border-bottom: 1px solid gray;flex-grow: 1;}#sk-container-id-2 div.sk-label:hover label.sk-toggleable__label {background-color: #d4ebff;}#sk-container-id-2 div.sk-serial::before {content: \"\";position: absolute;border-left: 1px solid gray;box-sizing: border-box;top: 0;bottom: 0;left: 50%;z-index: 0;}#sk-container-id-2 div.sk-serial {display: flex;flex-direction: column;align-items: center;background-color: white;padding-right: 0.2em;padding-left: 0.2em;position: relative;}#sk-container-id-2 div.sk-item {position: relative;z-index: 1;}#sk-container-id-2 div.sk-parallel {display: flex;align-items: stretch;justify-content: center;background-color: white;position: relative;}#sk-container-id-2 div.sk-item::before, #sk-container-id-2 div.sk-parallel-item::before {content: \"\";position: absolute;border-left: 1px solid gray;box-sizing: border-box;top: 0;bottom: 0;left: 50%;z-index: -1;}#sk-container-id-2 div.sk-parallel-item {display: flex;flex-direction: column;z-index: 1;position: relative;background-color: white;}#sk-container-id-2 div.sk-parallel-item:first-child::after {align-self: flex-end;width: 50%;}#sk-container-id-2 div.sk-parallel-item:last-child::after {align-self: flex-start;width: 50%;}#sk-container-id-2 div.sk-parallel-item:only-child::after {width: 0;}#sk-container-id-2 div.sk-dashed-wrapped {border: 1px dashed gray;margin: 0 0.4em 0.5em 0.4em;box-sizing: border-box;padding-bottom: 0.4em;background-color: white;}#sk-container-id-2 div.sk-label label {font-family: monospace;font-weight: bold;display: inline-block;line-height: 1.2em;}#sk-container-id-2 div.sk-label-container {text-align: center;}#sk-container-id-2 div.sk-container {/* jupyter's `normalize.less` sets `[hidden] { display: none; }` but bootstrap.min.css set `[hidden] { display: none !important; }` so we also need the `!important` here to be able to override the default hidden behavior on the sphinx rendered scikit-learn.org. See: https://github.com/scikit-learn/scikit-learn/issues/21755 */display: inline-block !important;position: relative;}#sk-container-id-2 div.sk-text-repr-fallback {display: none;}</style><div id=\"sk-container-id-2\" class=\"sk-top-container\"><div class=\"sk-text-repr-fallback\"><pre>GridSearchCV(cv=5,\n",
       "             estimator=XGBRegressor(base_score=None, booster=None,\n",
       "                                    callbacks=None, colsample_bylevel=None,\n",
       "                                    colsample_bynode=None,\n",
       "                                    colsample_bytree=None,\n",
       "                                    early_stopping_rounds=None,\n",
       "                                    enable_categorical=False, eval_metric=None,\n",
       "                                    feature_types=None, gamma=None, gpu_id=None,\n",
       "                                    grow_policy=None, importance_type=None,\n",
       "                                    interaction_constraints=None,\n",
       "                                    learning_rate=None, m...\n",
       "                                    max_depth=None, max_leaves=None,\n",
       "                                    min_child_weight=None, missing=nan,\n",
       "                                    monotone_constraints=None, n_estimators=100,\n",
       "                                    n_jobs=None, num_parallel_tree=None,\n",
       "                                    predictor=None, random_state=42, ...),\n",
       "             param_grid={&#x27;colsample_bytree&#x27;: [0.8], &#x27;gamma&#x27;: [0],\n",
       "                         &#x27;learning_rate&#x27;: [0.1], &#x27;max_depth&#x27;: [4],\n",
       "                         &#x27;n_estimators&#x27;: [200], &#x27;reg_alpha&#x27;: [0.2],\n",
       "                         &#x27;reg_lambda&#x27;: [0], &#x27;subsample&#x27;: [0.9]},\n",
       "             scoring=&#x27;r2&#x27;)</pre><b>In a Jupyter environment, please rerun this cell to show the HTML representation or trust the notebook. <br />On GitHub, the HTML representation is unable to render, please try loading this page with nbviewer.org.</b></div><div class=\"sk-container\" hidden><div class=\"sk-item sk-dashed-wrapped\"><div class=\"sk-label-container\"><div class=\"sk-label sk-toggleable\"><input class=\"sk-toggleable__control sk-hidden--visually\" id=\"sk-estimator-id-4\" type=\"checkbox\" ><label for=\"sk-estimator-id-4\" class=\"sk-toggleable__label sk-toggleable__label-arrow\">GridSearchCV</label><div class=\"sk-toggleable__content\"><pre>GridSearchCV(cv=5,\n",
       "             estimator=XGBRegressor(base_score=None, booster=None,\n",
       "                                    callbacks=None, colsample_bylevel=None,\n",
       "                                    colsample_bynode=None,\n",
       "                                    colsample_bytree=None,\n",
       "                                    early_stopping_rounds=None,\n",
       "                                    enable_categorical=False, eval_metric=None,\n",
       "                                    feature_types=None, gamma=None, gpu_id=None,\n",
       "                                    grow_policy=None, importance_type=None,\n",
       "                                    interaction_constraints=None,\n",
       "                                    learning_rate=None, m...\n",
       "                                    max_depth=None, max_leaves=None,\n",
       "                                    min_child_weight=None, missing=nan,\n",
       "                                    monotone_constraints=None, n_estimators=100,\n",
       "                                    n_jobs=None, num_parallel_tree=None,\n",
       "                                    predictor=None, random_state=42, ...),\n",
       "             param_grid={&#x27;colsample_bytree&#x27;: [0.8], &#x27;gamma&#x27;: [0],\n",
       "                         &#x27;learning_rate&#x27;: [0.1], &#x27;max_depth&#x27;: [4],\n",
       "                         &#x27;n_estimators&#x27;: [200], &#x27;reg_alpha&#x27;: [0.2],\n",
       "                         &#x27;reg_lambda&#x27;: [0], &#x27;subsample&#x27;: [0.9]},\n",
       "             scoring=&#x27;r2&#x27;)</pre></div></div></div><div class=\"sk-parallel\"><div class=\"sk-parallel-item\"><div class=\"sk-item\"><div class=\"sk-label-container\"><div class=\"sk-label sk-toggleable\"><input class=\"sk-toggleable__control sk-hidden--visually\" id=\"sk-estimator-id-5\" type=\"checkbox\" ><label for=\"sk-estimator-id-5\" class=\"sk-toggleable__label sk-toggleable__label-arrow\">estimator: XGBRegressor</label><div class=\"sk-toggleable__content\"><pre>XGBRegressor(base_score=None, booster=None, callbacks=None,\n",
       "             colsample_bylevel=None, colsample_bynode=None,\n",
       "             colsample_bytree=None, early_stopping_rounds=None,\n",
       "             enable_categorical=False, eval_metric=None, feature_types=None,\n",
       "             gamma=None, gpu_id=None, grow_policy=None, importance_type=None,\n",
       "             interaction_constraints=None, learning_rate=None, max_bin=None,\n",
       "             max_cat_threshold=None, max_cat_to_onehot=None,\n",
       "             max_delta_step=None, max_depth=None, max_leaves=None,\n",
       "             min_child_weight=None, missing=nan, monotone_constraints=None,\n",
       "             n_estimators=100, n_jobs=None, num_parallel_tree=None,\n",
       "             predictor=None, random_state=42, ...)</pre></div></div></div><div class=\"sk-serial\"><div class=\"sk-item\"><div class=\"sk-estimator sk-toggleable\"><input class=\"sk-toggleable__control sk-hidden--visually\" id=\"sk-estimator-id-6\" type=\"checkbox\" ><label for=\"sk-estimator-id-6\" class=\"sk-toggleable__label sk-toggleable__label-arrow\">XGBRegressor</label><div class=\"sk-toggleable__content\"><pre>XGBRegressor(base_score=None, booster=None, callbacks=None,\n",
       "             colsample_bylevel=None, colsample_bynode=None,\n",
       "             colsample_bytree=None, early_stopping_rounds=None,\n",
       "             enable_categorical=False, eval_metric=None, feature_types=None,\n",
       "             gamma=None, gpu_id=None, grow_policy=None, importance_type=None,\n",
       "             interaction_constraints=None, learning_rate=None, max_bin=None,\n",
       "             max_cat_threshold=None, max_cat_to_onehot=None,\n",
       "             max_delta_step=None, max_depth=None, max_leaves=None,\n",
       "             min_child_weight=None, missing=nan, monotone_constraints=None,\n",
       "             n_estimators=100, n_jobs=None, num_parallel_tree=None,\n",
       "             predictor=None, random_state=42, ...)</pre></div></div></div></div></div></div></div></div></div></div>"
      ],
      "text/plain": [
       "GridSearchCV(cv=5,\n",
       "             estimator=XGBRegressor(base_score=None, booster=None,\n",
       "                                    callbacks=None, colsample_bylevel=None,\n",
       "                                    colsample_bynode=None,\n",
       "                                    colsample_bytree=None,\n",
       "                                    early_stopping_rounds=None,\n",
       "                                    enable_categorical=False, eval_metric=None,\n",
       "                                    feature_types=None, gamma=None, gpu_id=None,\n",
       "                                    grow_policy=None, importance_type=None,\n",
       "                                    interaction_constraints=None,\n",
       "                                    learning_rate=None, m...\n",
       "                                    max_depth=None, max_leaves=None,\n",
       "                                    min_child_weight=None, missing=nan,\n",
       "                                    monotone_constraints=None, n_estimators=100,\n",
       "                                    n_jobs=None, num_parallel_tree=None,\n",
       "                                    predictor=None, random_state=42, ...),\n",
       "             param_grid={'colsample_bytree': [0.8], 'gamma': [0],\n",
       "                         'learning_rate': [0.1], 'max_depth': [4],\n",
       "                         'n_estimators': [200], 'reg_alpha': [0.2],\n",
       "                         'reg_lambda': [0], 'subsample': [0.9]},\n",
       "             scoring='r2')"
      ]
     },
     "execution_count": 19,
     "metadata": {},
     "output_type": "execute_result"
    }
   ],
   "source": [
    "model_XGB = GridSearchCV(regressor_XGB, best_param_grid_XGB, scoring=\"r2\", cv=5)\n",
    "model_XGB.fit(X_train_XGB, y_train_XGB)"
   ]
  },
  {
   "cell_type": "code",
   "execution_count": 20,
   "id": "fc68efb7",
   "metadata": {},
   "outputs": [],
   "source": [
    "best_params_XGB = model_XGB.best_estimator_.get_params()"
   ]
  },
  {
   "cell_type": "markdown",
   "id": "90ef4d52",
   "metadata": {},
   "source": [
    "**Creating a prediction.**"
   ]
  },
  {
   "cell_type": "code",
   "execution_count": 21,
   "id": "4cc8ac94",
   "metadata": {},
   "outputs": [],
   "source": [
    "y_pred_XGB = model_XGB.predict(X_test_XGB)"
   ]
  },
  {
   "cell_type": "markdown",
   "id": "ddbbf826",
   "metadata": {},
   "source": [
    "**Creating metrics and printing them out.**"
   ]
  },
  {
   "cell_type": "code",
   "execution_count": 22,
   "id": "fb171725",
   "metadata": {},
   "outputs": [],
   "source": [
    "mae_XGB = mean_absolute_error(y_test_XGB, y_pred_XGB)\n",
    "mse_XGB = mean_squared_error(y_test_XGB, y_pred_XGB)\n",
    "rmse_XGB = mean_squared_error(y_test_XGB, y_pred_XGB, squared=False)\n",
    "r2_XGB = r2_score(y_test_XGB, y_pred_XGB)"
   ]
  },
  {
   "cell_type": "code",
   "execution_count": 23,
   "id": "d2fdbcd1",
   "metadata": {},
   "outputs": [
    {
     "name": "stdout",
     "output_type": "stream",
     "text": [
      "Best Hyperparameters: {'objective': 'reg:squarederror', 'base_score': None, 'booster': None, 'callbacks': None, 'colsample_bylevel': None, 'colsample_bynode': None, 'colsample_bytree': 0.8, 'early_stopping_rounds': None, 'enable_categorical': False, 'eval_metric': None, 'feature_types': None, 'gamma': 0, 'gpu_id': None, 'grow_policy': None, 'importance_type': None, 'interaction_constraints': None, 'learning_rate': 0.1, 'max_bin': None, 'max_cat_threshold': None, 'max_cat_to_onehot': None, 'max_delta_step': None, 'max_depth': 4, 'max_leaves': None, 'min_child_weight': None, 'missing': nan, 'monotone_constraints': None, 'n_estimators': 200, 'n_jobs': None, 'num_parallel_tree': None, 'predictor': None, 'random_state': 42, 'reg_alpha': 0.2, 'reg_lambda': 0, 'sampling_method': None, 'scale_pos_weight': None, 'subsample': 0.9, 'tree_method': None, 'validate_parameters': None, 'verbosity': None}\n",
      "Mean Absolute Error (MAE): 0.11837147831843876\n",
      "Mean Squared Error (MSE): 0.02415938801126711\n",
      "Root Mean Squared Error (RMSE): 0.15543290517540714\n",
      "R-squared (R2): 0.29206332710527627\n"
     ]
    }
   ],
   "source": [
    "print(\"Best Hyperparameters:\", best_params_XGB)\n",
    "print(\"Mean Absolute Error (MAE):\", mae_XGB)\n",
    "print(\"Mean Squared Error (MSE):\", mse_XGB)\n",
    "print(\"Root Mean Squared Error (RMSE):\", rmse_XGB)\n",
    "print(\"R-squared (R2):\", r2_XGB)"
   ]
  },
  {
   "cell_type": "markdown",
   "id": "29b71d8d",
   "metadata": {},
   "source": [
    "# 4. Ensemble of RandomForest and  XGBoost Regressors"
   ]
  },
  {
   "cell_type": "markdown",
   "id": "5582c4db",
   "metadata": {},
   "source": [
    "**Define the target and source data.**"
   ]
  },
  {
   "cell_type": "code",
   "execution_count": 24,
   "id": "54efc2c3",
   "metadata": {},
   "outputs": [],
   "source": [
    "X_en = dataframe.drop(\"positive_reviews_share\", axis=1)\n",
    "y_en = dataframe[\"positive_reviews_share\"]"
   ]
  },
  {
   "cell_type": "markdown",
   "id": "1bccd436",
   "metadata": {},
   "source": [
    "**Spliting the data.**"
   ]
  },
  {
   "cell_type": "code",
   "execution_count": 25,
   "id": "a5534b37",
   "metadata": {},
   "outputs": [],
   "source": [
    "X_train_en, X_test_en, y_train_en, y_test_en = train_test_split(X_en, y_en, test_size=0.2, random_state=42)"
   ]
  },
  {
   "cell_type": "markdown",
   "id": "60ae14ef",
   "metadata": {},
   "source": [
    "**Creating a model for an ensemble.**"
   ]
  },
  {
   "cell_type": "code",
   "execution_count": 26,
   "id": "eaf83f6c",
   "metadata": {},
   "outputs": [],
   "source": [
    "model_en = VotingRegressor(estimators=[(\"rf\", model_RF.best_estimator_), (\"xgb\", model_XGB.best_estimator_)])"
   ]
  },
  {
   "cell_type": "code",
   "execution_count": 27,
   "id": "a847956f",
   "metadata": {},
   "outputs": [
    {
     "data": {
      "text/html": [
       "<style>#sk-container-id-3 {color: black;background-color: white;}#sk-container-id-3 pre{padding: 0;}#sk-container-id-3 div.sk-toggleable {background-color: white;}#sk-container-id-3 label.sk-toggleable__label {cursor: pointer;display: block;width: 100%;margin-bottom: 0;padding: 0.3em;box-sizing: border-box;text-align: center;}#sk-container-id-3 label.sk-toggleable__label-arrow:before {content: \"▸\";float: left;margin-right: 0.25em;color: #696969;}#sk-container-id-3 label.sk-toggleable__label-arrow:hover:before {color: black;}#sk-container-id-3 div.sk-estimator:hover label.sk-toggleable__label-arrow:before {color: black;}#sk-container-id-3 div.sk-toggleable__content {max-height: 0;max-width: 0;overflow: hidden;text-align: left;background-color: #f0f8ff;}#sk-container-id-3 div.sk-toggleable__content pre {margin: 0.2em;color: black;border-radius: 0.25em;background-color: #f0f8ff;}#sk-container-id-3 input.sk-toggleable__control:checked~div.sk-toggleable__content {max-height: 200px;max-width: 100%;overflow: auto;}#sk-container-id-3 input.sk-toggleable__control:checked~label.sk-toggleable__label-arrow:before {content: \"▾\";}#sk-container-id-3 div.sk-estimator input.sk-toggleable__control:checked~label.sk-toggleable__label {background-color: #d4ebff;}#sk-container-id-3 div.sk-label input.sk-toggleable__control:checked~label.sk-toggleable__label {background-color: #d4ebff;}#sk-container-id-3 input.sk-hidden--visually {border: 0;clip: rect(1px 1px 1px 1px);clip: rect(1px, 1px, 1px, 1px);height: 1px;margin: -1px;overflow: hidden;padding: 0;position: absolute;width: 1px;}#sk-container-id-3 div.sk-estimator {font-family: monospace;background-color: #f0f8ff;border: 1px dotted black;border-radius: 0.25em;box-sizing: border-box;margin-bottom: 0.5em;}#sk-container-id-3 div.sk-estimator:hover {background-color: #d4ebff;}#sk-container-id-3 div.sk-parallel-item::after {content: \"\";width: 100%;border-bottom: 1px solid gray;flex-grow: 1;}#sk-container-id-3 div.sk-label:hover label.sk-toggleable__label {background-color: #d4ebff;}#sk-container-id-3 div.sk-serial::before {content: \"\";position: absolute;border-left: 1px solid gray;box-sizing: border-box;top: 0;bottom: 0;left: 50%;z-index: 0;}#sk-container-id-3 div.sk-serial {display: flex;flex-direction: column;align-items: center;background-color: white;padding-right: 0.2em;padding-left: 0.2em;position: relative;}#sk-container-id-3 div.sk-item {position: relative;z-index: 1;}#sk-container-id-3 div.sk-parallel {display: flex;align-items: stretch;justify-content: center;background-color: white;position: relative;}#sk-container-id-3 div.sk-item::before, #sk-container-id-3 div.sk-parallel-item::before {content: \"\";position: absolute;border-left: 1px solid gray;box-sizing: border-box;top: 0;bottom: 0;left: 50%;z-index: -1;}#sk-container-id-3 div.sk-parallel-item {display: flex;flex-direction: column;z-index: 1;position: relative;background-color: white;}#sk-container-id-3 div.sk-parallel-item:first-child::after {align-self: flex-end;width: 50%;}#sk-container-id-3 div.sk-parallel-item:last-child::after {align-self: flex-start;width: 50%;}#sk-container-id-3 div.sk-parallel-item:only-child::after {width: 0;}#sk-container-id-3 div.sk-dashed-wrapped {border: 1px dashed gray;margin: 0 0.4em 0.5em 0.4em;box-sizing: border-box;padding-bottom: 0.4em;background-color: white;}#sk-container-id-3 div.sk-label label {font-family: monospace;font-weight: bold;display: inline-block;line-height: 1.2em;}#sk-container-id-3 div.sk-label-container {text-align: center;}#sk-container-id-3 div.sk-container {/* jupyter's `normalize.less` sets `[hidden] { display: none; }` but bootstrap.min.css set `[hidden] { display: none !important; }` so we also need the `!important` here to be able to override the default hidden behavior on the sphinx rendered scikit-learn.org. See: https://github.com/scikit-learn/scikit-learn/issues/21755 */display: inline-block !important;position: relative;}#sk-container-id-3 div.sk-text-repr-fallback {display: none;}</style><div id=\"sk-container-id-3\" class=\"sk-top-container\"><div class=\"sk-text-repr-fallback\"><pre>VotingRegressor(estimators=[(&#x27;rf&#x27;,\n",
       "                             RandomForestRegressor(min_samples_split=10,\n",
       "                                                   n_estimators=300,\n",
       "                                                   random_state=42)),\n",
       "                            (&#x27;xgb&#x27;,\n",
       "                             XGBRegressor(base_score=None, booster=None,\n",
       "                                          callbacks=None,\n",
       "                                          colsample_bylevel=None,\n",
       "                                          colsample_bynode=None,\n",
       "                                          colsample_bytree=0.8,\n",
       "                                          early_stopping_rounds=None,\n",
       "                                          enable_categorical=False,\n",
       "                                          eval_metric=None, feature_types=None,\n",
       "                                          gamma=0, gpu_id=None,\n",
       "                                          grow_policy=None,\n",
       "                                          importance_type=None,\n",
       "                                          interaction_constraints=None,\n",
       "                                          learning_rate=0.1, max_bin=None,\n",
       "                                          max_cat_threshold=None,\n",
       "                                          max_cat_to_onehot=None,\n",
       "                                          max_delta_step=None, max_depth=4,\n",
       "                                          max_leaves=None,\n",
       "                                          min_child_weight=None, missing=nan,\n",
       "                                          monotone_constraints=None,\n",
       "                                          n_estimators=200, n_jobs=None,\n",
       "                                          num_parallel_tree=None,\n",
       "                                          predictor=None, random_state=42, ...))])</pre><b>In a Jupyter environment, please rerun this cell to show the HTML representation or trust the notebook. <br />On GitHub, the HTML representation is unable to render, please try loading this page with nbviewer.org.</b></div><div class=\"sk-container\" hidden><div class=\"sk-item sk-dashed-wrapped\"><div class=\"sk-label-container\"><div class=\"sk-label sk-toggleable\"><input class=\"sk-toggleable__control sk-hidden--visually\" id=\"sk-estimator-id-7\" type=\"checkbox\" ><label for=\"sk-estimator-id-7\" class=\"sk-toggleable__label sk-toggleable__label-arrow\">VotingRegressor</label><div class=\"sk-toggleable__content\"><pre>VotingRegressor(estimators=[(&#x27;rf&#x27;,\n",
       "                             RandomForestRegressor(min_samples_split=10,\n",
       "                                                   n_estimators=300,\n",
       "                                                   random_state=42)),\n",
       "                            (&#x27;xgb&#x27;,\n",
       "                             XGBRegressor(base_score=None, booster=None,\n",
       "                                          callbacks=None,\n",
       "                                          colsample_bylevel=None,\n",
       "                                          colsample_bynode=None,\n",
       "                                          colsample_bytree=0.8,\n",
       "                                          early_stopping_rounds=None,\n",
       "                                          enable_categorical=False,\n",
       "                                          eval_metric=None, feature_types=None,\n",
       "                                          gamma=0, gpu_id=None,\n",
       "                                          grow_policy=None,\n",
       "                                          importance_type=None,\n",
       "                                          interaction_constraints=None,\n",
       "                                          learning_rate=0.1, max_bin=None,\n",
       "                                          max_cat_threshold=None,\n",
       "                                          max_cat_to_onehot=None,\n",
       "                                          max_delta_step=None, max_depth=4,\n",
       "                                          max_leaves=None,\n",
       "                                          min_child_weight=None, missing=nan,\n",
       "                                          monotone_constraints=None,\n",
       "                                          n_estimators=200, n_jobs=None,\n",
       "                                          num_parallel_tree=None,\n",
       "                                          predictor=None, random_state=42, ...))])</pre></div></div></div><div class=\"sk-parallel\"><div class=\"sk-parallel-item\"><div class=\"sk-item\"><div class=\"sk-label-container\"><div class=\"sk-label sk-toggleable\"><label>rf</label></div></div><div class=\"sk-serial\"><div class=\"sk-item\"><div class=\"sk-estimator sk-toggleable\"><input class=\"sk-toggleable__control sk-hidden--visually\" id=\"sk-estimator-id-8\" type=\"checkbox\" ><label for=\"sk-estimator-id-8\" class=\"sk-toggleable__label sk-toggleable__label-arrow\">RandomForestRegressor</label><div class=\"sk-toggleable__content\"><pre>RandomForestRegressor(min_samples_split=10, n_estimators=300, random_state=42)</pre></div></div></div></div></div></div><div class=\"sk-parallel-item\"><div class=\"sk-item\"><div class=\"sk-label-container\"><div class=\"sk-label sk-toggleable\"><label>xgb</label></div></div><div class=\"sk-serial\"><div class=\"sk-item\"><div class=\"sk-estimator sk-toggleable\"><input class=\"sk-toggleable__control sk-hidden--visually\" id=\"sk-estimator-id-9\" type=\"checkbox\" ><label for=\"sk-estimator-id-9\" class=\"sk-toggleable__label sk-toggleable__label-arrow\">XGBRegressor</label><div class=\"sk-toggleable__content\"><pre>XGBRegressor(base_score=None, booster=None, callbacks=None,\n",
       "             colsample_bylevel=None, colsample_bynode=None,\n",
       "             colsample_bytree=0.8, early_stopping_rounds=None,\n",
       "             enable_categorical=False, eval_metric=None, feature_types=None,\n",
       "             gamma=0, gpu_id=None, grow_policy=None, importance_type=None,\n",
       "             interaction_constraints=None, learning_rate=0.1, max_bin=None,\n",
       "             max_cat_threshold=None, max_cat_to_onehot=None,\n",
       "             max_delta_step=None, max_depth=4, max_leaves=None,\n",
       "             min_child_weight=None, missing=nan, monotone_constraints=None,\n",
       "             n_estimators=200, n_jobs=None, num_parallel_tree=None,\n",
       "             predictor=None, random_state=42, ...)</pre></div></div></div></div></div></div></div></div></div></div>"
      ],
      "text/plain": [
       "VotingRegressor(estimators=[('rf',\n",
       "                             RandomForestRegressor(min_samples_split=10,\n",
       "                                                   n_estimators=300,\n",
       "                                                   random_state=42)),\n",
       "                            ('xgb',\n",
       "                             XGBRegressor(base_score=None, booster=None,\n",
       "                                          callbacks=None,\n",
       "                                          colsample_bylevel=None,\n",
       "                                          colsample_bynode=None,\n",
       "                                          colsample_bytree=0.8,\n",
       "                                          early_stopping_rounds=None,\n",
       "                                          enable_categorical=False,\n",
       "                                          eval_metric=None, feature_types=None,\n",
       "                                          gamma=0, gpu_id=None,\n",
       "                                          grow_policy=None,\n",
       "                                          importance_type=None,\n",
       "                                          interaction_constraints=None,\n",
       "                                          learning_rate=0.1, max_bin=None,\n",
       "                                          max_cat_threshold=None,\n",
       "                                          max_cat_to_onehot=None,\n",
       "                                          max_delta_step=None, max_depth=4,\n",
       "                                          max_leaves=None,\n",
       "                                          min_child_weight=None, missing=nan,\n",
       "                                          monotone_constraints=None,\n",
       "                                          n_estimators=200, n_jobs=None,\n",
       "                                          num_parallel_tree=None,\n",
       "                                          predictor=None, random_state=42, ...))])"
      ]
     },
     "execution_count": 27,
     "metadata": {},
     "output_type": "execute_result"
    }
   ],
   "source": [
    "model_en.fit(X_train_en, y_train_en)"
   ]
  },
  {
   "cell_type": "markdown",
   "id": "d2553efd",
   "metadata": {},
   "source": [
    "**Creating a prediction.**"
   ]
  },
  {
   "cell_type": "code",
   "execution_count": 28,
   "id": "4b8ce49f",
   "metadata": {},
   "outputs": [],
   "source": [
    "y_pred_en = model_en.predict(X_test_en)"
   ]
  },
  {
   "cell_type": "markdown",
   "id": "81e57798",
   "metadata": {},
   "source": [
    "**Creating metrics and printing them out.**"
   ]
  },
  {
   "cell_type": "code",
   "execution_count": 29,
   "id": "96d00f5d",
   "metadata": {},
   "outputs": [],
   "source": [
    "mae_en = mean_absolute_error(y_test_en, y_pred_en)\n",
    "mse_en = mean_squared_error(y_test_en, y_pred_en)\n",
    "rmse_en = mean_squared_error(y_test_en, y_pred_en, squared=False)\n",
    "r2_en = r2_score(y_test_en, y_pred_en)"
   ]
  },
  {
   "cell_type": "code",
   "execution_count": 30,
   "id": "702c5303",
   "metadata": {},
   "outputs": [
    {
     "name": "stdout",
     "output_type": "stream",
     "text": [
      "Mean Absolute Error (MAE): 0.11700650989580823\n",
      "Mean Squared Error (MSE): 0.023628446581069384\n",
      "Root Mean Squared Error (RMSE): 0.15371547280956913\n",
      "R-squared (R2): 0.3076213747437698\n"
     ]
    }
   ],
   "source": [
    "print(\"Mean Absolute Error (MAE):\", mae_en)\n",
    "print(\"Mean Squared Error (MSE):\", mse_en)\n",
    "print(\"Root Mean Squared Error (RMSE):\", rmse_en)\n",
    "print(\"R-squared (R2):\", r2_en)"
   ]
  },
  {
   "cell_type": "markdown",
   "id": "af4dd5e6",
   "metadata": {},
   "source": [
    "# 4. Saving the models"
   ]
  },
  {
   "cell_type": "markdown",
   "id": "6bbb4450",
   "metadata": {},
   "source": [
    "**Creating a function to save model.**"
   ]
  },
  {
   "cell_type": "code",
   "execution_count": 31,
   "id": "187f147c",
   "metadata": {},
   "outputs": [],
   "source": [
    "def save_model(model, filename):\n",
    "    with open(\"Models/\" + filename, \"wb\") as file:\n",
    "        pickle.dump(model, file)"
   ]
  },
  {
   "cell_type": "code",
   "execution_count": 32,
   "id": "0b16deb5",
   "metadata": {},
   "outputs": [],
   "source": [
    "save_model(model_RF, \"random_forest_model.pkl\")"
   ]
  },
  {
   "cell_type": "code",
   "execution_count": 33,
   "id": "13dd06c0",
   "metadata": {},
   "outputs": [],
   "source": [
    "save_model(model_XGB, \"XGBoost_model.pkl\")"
   ]
  },
  {
   "cell_type": "code",
   "execution_count": 34,
   "id": "af7756b9",
   "metadata": {},
   "outputs": [],
   "source": [
    "save_model(model_en, \"Ensemble_model.pkl\")"
   ]
  }
 ],
 "metadata": {
  "kernelspec": {
   "display_name": "Python 3 (ipykernel)",
   "language": "python",
   "name": "python3"
  },
  "language_info": {
   "codemirror_mode": {
    "name": "ipython",
    "version": 3
   },
   "file_extension": ".py",
   "mimetype": "text/x-python",
   "name": "python",
   "nbconvert_exporter": "python",
   "pygments_lexer": "ipython3",
   "version": "3.10.11"
  }
 },
 "nbformat": 4,
 "nbformat_minor": 5
}
